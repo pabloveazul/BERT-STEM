{
 "cells": [
  {
   "cell_type": "code",
   "execution_count": 2,
   "id": "2f7bede1",
   "metadata": {},
   "outputs": [
    {
     "name": "stdout",
     "output_type": "stream",
     "text": [
      "Requirement already satisfied: bertstem in /Users/pablouribepizarro/anaconda3/envs/ciae/lib/python3.8/site-packages (0.0.2)\n",
      "Collecting bertstem\n",
      "  Downloading bertstem-0.0.4-py3-none-any.whl (4.7 kB)\n",
      "Requirement already satisfied: torch in /Users/pablouribepizarro/anaconda3/envs/ciae/lib/python3.8/site-packages (from bertstem) (1.9.0)\n",
      "Requirement already satisfied: pandas in /Users/pablouribepizarro/anaconda3/envs/ciae/lib/python3.8/site-packages (from bertstem) (1.3.1)\n",
      "Requirement already satisfied: transformers in /Users/pablouribepizarro/anaconda3/envs/ciae/lib/python3.8/site-packages (from bertstem) (4.9.2)\n",
      "Requirement already satisfied: numpy in /Users/pablouribepizarro/anaconda3/envs/ciae/lib/python3.8/site-packages (from bertstem) (1.21.1)\n",
      "Requirement already satisfied: pytz>=2017.3 in /Users/pablouribepizarro/anaconda3/envs/ciae/lib/python3.8/site-packages (from pandas->bertstem) (2021.1)\n",
      "Requirement already satisfied: python-dateutil>=2.7.3 in /Users/pablouribepizarro/anaconda3/envs/ciae/lib/python3.8/site-packages (from pandas->bertstem) (2.8.2)\n",
      "Requirement already satisfied: typing-extensions in /Users/pablouribepizarro/anaconda3/envs/ciae/lib/python3.8/site-packages (from torch->bertstem) (3.10.0.0)\n",
      "Requirement already satisfied: pyyaml>=5.1 in /Users/pablouribepizarro/anaconda3/envs/ciae/lib/python3.8/site-packages (from transformers->bertstem) (5.4.1)\n",
      "Requirement already satisfied: filelock in /Users/pablouribepizarro/anaconda3/envs/ciae/lib/python3.8/site-packages (from transformers->bertstem) (3.0.12)\n",
      "Requirement already satisfied: sacremoses in /Users/pablouribepizarro/anaconda3/envs/ciae/lib/python3.8/site-packages (from transformers->bertstem) (0.0.45)\n",
      "Requirement already satisfied: packaging in /Users/pablouribepizarro/anaconda3/envs/ciae/lib/python3.8/site-packages (from transformers->bertstem) (21.0)\n",
      "Requirement already satisfied: tokenizers<0.11,>=0.10.1 in /Users/pablouribepizarro/anaconda3/envs/ciae/lib/python3.8/site-packages (from transformers->bertstem) (0.10.3)\n",
      "Requirement already satisfied: requests in /Users/pablouribepizarro/anaconda3/envs/ciae/lib/python3.8/site-packages (from transformers->bertstem) (2.26.0)\n",
      "Requirement already satisfied: regex!=2019.12.17 in /Users/pablouribepizarro/anaconda3/envs/ciae/lib/python3.8/site-packages (from transformers->bertstem) (2021.8.3)\n",
      "Requirement already satisfied: huggingface-hub==0.0.12 in /Users/pablouribepizarro/anaconda3/envs/ciae/lib/python3.8/site-packages (from transformers->bertstem) (0.0.12)\n",
      "Requirement already satisfied: tqdm>=4.27 in /Users/pablouribepizarro/anaconda3/envs/ciae/lib/python3.8/site-packages (from transformers->bertstem) (4.62.0)\n",
      "Requirement already satisfied: pyparsing>=2.0.2 in /Users/pablouribepizarro/anaconda3/envs/ciae/lib/python3.8/site-packages (from packaging->transformers->bertstem) (2.4.7)\n",
      "Requirement already satisfied: six>=1.5 in /Users/pablouribepizarro/anaconda3/envs/ciae/lib/python3.8/site-packages (from python-dateutil>=2.7.3->pandas->bertstem) (1.16.0)\n",
      "Requirement already satisfied: urllib3<1.27,>=1.21.1 in /Users/pablouribepizarro/anaconda3/envs/ciae/lib/python3.8/site-packages (from requests->transformers->bertstem) (1.26.6)\n",
      "Requirement already satisfied: idna<4,>=2.5 in /Users/pablouribepizarro/anaconda3/envs/ciae/lib/python3.8/site-packages (from requests->transformers->bertstem) (3.2)\n",
      "Requirement already satisfied: certifi>=2017.4.17 in /Users/pablouribepizarro/anaconda3/envs/ciae/lib/python3.8/site-packages (from requests->transformers->bertstem) (2021.5.30)\n",
      "Requirement already satisfied: charset-normalizer~=2.0.0 in /Users/pablouribepizarro/anaconda3/envs/ciae/lib/python3.8/site-packages (from requests->transformers->bertstem) (2.0.4)\n",
      "Requirement already satisfied: joblib in /Users/pablouribepizarro/anaconda3/envs/ciae/lib/python3.8/site-packages (from sacremoses->transformers->bertstem) (1.0.1)\n",
      "Requirement already satisfied: click in /Users/pablouribepizarro/anaconda3/envs/ciae/lib/python3.8/site-packages (from sacremoses->transformers->bertstem) (8.0.1)\n",
      "Installing collected packages: bertstem\n",
      "  Attempting uninstall: bertstem\n",
      "    Found existing installation: bertstem 0.0.2\n",
      "    Uninstalling bertstem-0.0.2:\n",
      "      Successfully uninstalled bertstem-0.0.2\n",
      "Successfully installed bertstem-0.0.4\n",
      "Note: you may need to restart the kernel to use updated packages.\n"
     ]
    }
   ],
   "source": [
    "%pip install bertstem --upgrade"
   ]
  },
  {
   "cell_type": "code",
   "execution_count": 5,
   "id": "3de32ce8",
   "metadata": {},
   "outputs": [],
   "source": [
    "from BERT_STEM import Encode"
   ]
  },
  {
   "cell_type": "code",
   "execution_count": 7,
   "id": "9a6b501b",
   "metadata": {},
   "outputs": [
    {
     "ename": "NameError",
     "evalue": "name 'sum_embeddings' is not defined",
     "output_type": "error",
     "traceback": [
      "\u001b[0;31m---------------------------------------------------------------------------\u001b[0m",
      "\u001b[0;31mNameError\u001b[0m                                 Traceback (most recent call last)",
      "\u001b[0;32m<ipython-input-7-4e7415df36b8>\u001b[0m in \u001b[0;36m<module>\u001b[0;34m\u001b[0m\n\u001b[0;32m----> 1\u001b[0;31m \u001b[0msum_embeddings\u001b[0m\u001b[0;34m\u001b[0m\u001b[0;34m\u001b[0m\u001b[0m\n\u001b[0m",
      "\u001b[0;31mNameError\u001b[0m: name 'sum_embeddings' is not defined"
     ]
    }
   ],
   "source": [
    "sum_embeddings"
   ]
  },
  {
   "cell_type": "code",
   "execution_count": null,
   "id": "bacc4b4e",
   "metadata": {},
   "outputs": [],
   "source": []
  }
 ],
 "metadata": {
  "kernelspec": {
   "display_name": "Python 3",
   "language": "python",
   "name": "python3"
  },
  "language_info": {
   "codemirror_mode": {
    "name": "ipython",
    "version": 3
   },
   "file_extension": ".py",
   "mimetype": "text/x-python",
   "name": "python",
   "nbconvert_exporter": "python",
   "pygments_lexer": "ipython3",
   "version": "3.8.5"
  }
 },
 "nbformat": 4,
 "nbformat_minor": 5
}

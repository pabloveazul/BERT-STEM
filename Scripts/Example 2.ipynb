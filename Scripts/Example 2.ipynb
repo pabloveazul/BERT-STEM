{
 "cells": [
  {
   "cell_type": "code",
   "execution_count": 10,
   "id": "675425ba",
   "metadata": {},
   "outputs": [],
   "source": [
    "from BERT_STEM.Encode import *\n",
    "import pandas as pd\n",
    "import transformers"
   ]
  },
  {
   "cell_type": "code",
   "execution_count": 4,
   "id": "0ff6d985",
   "metadata": {},
   "outputs": [
    {
     "name": "stderr",
     "output_type": "stream",
     "text": [
      "Some weights of the model checkpoint at dccuchile/bert-base-spanish-wwm-uncased were not used when initializing BertModel: ['cls.predictions.transform.dense.weight', 'cls.predictions.transform.LayerNorm.weight', 'cls.predictions.transform.LayerNorm.bias', 'cls.predictions.decoder.weight', 'cls.predictions.decoder.bias', 'cls.predictions.bias', 'cls.predictions.transform.dense.bias']\n",
      "- This IS expected if you are initializing BertModel from the checkpoint of a model trained on another task or with another architecture (e.g. initializing a BertForSequenceClassification model from a BertForPreTraining model).\n",
      "- This IS NOT expected if you are initializing BertModel from the checkpoint of a model that you expect to be exactly identical (initializing a BertForSequenceClassification model from a BertForSequenceClassification model).\n",
      "Some weights of BertModel were not initialized from the model checkpoint at dccuchile/bert-base-spanish-wwm-uncased and are newly initialized: ['bert.pooler.dense.bias', 'bert.pooler.dense.weight']\n",
      "You should probably TRAIN this model on a down-stream task to be able to use it for predictions and inference.\n"
     ]
    }
   ],
   "source": [
    "# Download spanish BERT:\n",
    "model = transformers.BertModel.from_pretrained(\"dccuchile/bert-base-spanish-wwm-uncased\")"
   ]
  },
  {
   "cell_type": "code",
   "execution_count": 5,
   "id": "dbcf5a76",
   "metadata": {},
   "outputs": [],
   "source": [
    "# Download spanish tokenizer:\n",
    "tokenizer = transformers.BertTokenizerFast.from_pretrained(\"dccuchile/bert-base-spanish-wwm-uncased\",do_lower_case=True, add_special_tokens = False)"
   ]
  },
  {
   "cell_type": "code",
   "execution_count": 9,
   "id": "e26ae7c4",
   "metadata": {},
   "outputs": [],
   "source": [
    "# Example dataframe with text in spanish\n",
    "data = {'col_1': [3, 2, 1], \n",
    "        'col_2': ['hola como estan', 'alumnos queridos', 'vamos a hablar de matematicas']}\n",
    "df = pd.DataFrame.from_dict(data)"
   ]
  },
  {
   "cell_type": "code",
   "execution_count": 11,
   "id": "52fa6e2e",
   "metadata": {},
   "outputs": [
    {
     "data": {
      "text/html": [
       "<div>\n",
       "<style scoped>\n",
       "    .dataframe tbody tr th:only-of-type {\n",
       "        vertical-align: middle;\n",
       "    }\n",
       "\n",
       "    .dataframe tbody tr th {\n",
       "        vertical-align: top;\n",
       "    }\n",
       "\n",
       "    .dataframe thead th {\n",
       "        text-align: right;\n",
       "    }\n",
       "</style>\n",
       "<table border=\"1\" class=\"dataframe\">\n",
       "  <thead>\n",
       "    <tr style=\"text-align: right;\">\n",
       "      <th></th>\n",
       "      <th>col_1</th>\n",
       "      <th>col_2</th>\n",
       "      <th>SUM_0</th>\n",
       "      <th>SUM_1</th>\n",
       "      <th>SUM_2</th>\n",
       "      <th>SUM_3</th>\n",
       "      <th>SUM_4</th>\n",
       "      <th>SUM_5</th>\n",
       "      <th>SUM_6</th>\n",
       "      <th>SUM_7</th>\n",
       "      <th>...</th>\n",
       "      <th>SUM_758</th>\n",
       "      <th>SUM_759</th>\n",
       "      <th>SUM_760</th>\n",
       "      <th>SUM_761</th>\n",
       "      <th>SUM_762</th>\n",
       "      <th>SUM_763</th>\n",
       "      <th>SUM_764</th>\n",
       "      <th>SUM_765</th>\n",
       "      <th>SUM_766</th>\n",
       "      <th>SUM_767</th>\n",
       "    </tr>\n",
       "  </thead>\n",
       "  <tbody>\n",
       "    <tr>\n",
       "      <th>0</th>\n",
       "      <td>3</td>\n",
       "      <td>hola como estan</td>\n",
       "      <td>-1.700786</td>\n",
       "      <td>-1.760625</td>\n",
       "      <td>1.967040</td>\n",
       "      <td>-2.899785</td>\n",
       "      <td>2.762954</td>\n",
       "      <td>-1.017555</td>\n",
       "      <td>0.548983</td>\n",
       "      <td>-1.160371</td>\n",
       "      <td>...</td>\n",
       "      <td>-6.562262</td>\n",
       "      <td>3.154655</td>\n",
       "      <td>1.552447</td>\n",
       "      <td>-3.136322</td>\n",
       "      <td>-3.724271</td>\n",
       "      <td>-1.145931</td>\n",
       "      <td>4.428095</td>\n",
       "      <td>0.207791</td>\n",
       "      <td>5.901742</td>\n",
       "      <td>-1.490143</td>\n",
       "    </tr>\n",
       "    <tr>\n",
       "      <th>1</th>\n",
       "      <td>2</td>\n",
       "      <td>alumnos queridos</td>\n",
       "      <td>1.337676</td>\n",
       "      <td>-2.040652</td>\n",
       "      <td>3.120281</td>\n",
       "      <td>0.445535</td>\n",
       "      <td>1.834115</td>\n",
       "      <td>1.943148</td>\n",
       "      <td>3.511281</td>\n",
       "      <td>2.248597</td>\n",
       "      <td>...</td>\n",
       "      <td>-0.839623</td>\n",
       "      <td>-2.212891</td>\n",
       "      <td>-1.991792</td>\n",
       "      <td>-5.451099</td>\n",
       "      <td>-0.581947</td>\n",
       "      <td>-2.032886</td>\n",
       "      <td>1.143040</td>\n",
       "      <td>1.079169</td>\n",
       "      <td>2.019759</td>\n",
       "      <td>3.394125</td>\n",
       "    </tr>\n",
       "    <tr>\n",
       "      <th>2</th>\n",
       "      <td>1</td>\n",
       "      <td>vamos a hablar de matematicas</td>\n",
       "      <td>-0.593493</td>\n",
       "      <td>6.140261</td>\n",
       "      <td>7.451053</td>\n",
       "      <td>-2.412131</td>\n",
       "      <td>-2.278517</td>\n",
       "      <td>5.188994</td>\n",
       "      <td>-3.946751</td>\n",
       "      <td>-9.876625</td>\n",
       "      <td>...</td>\n",
       "      <td>-3.920628</td>\n",
       "      <td>0.816847</td>\n",
       "      <td>1.259655</td>\n",
       "      <td>-5.159519</td>\n",
       "      <td>-6.839560</td>\n",
       "      <td>4.979477</td>\n",
       "      <td>-2.389618</td>\n",
       "      <td>0.460332</td>\n",
       "      <td>-0.194753</td>\n",
       "      <td>1.463782</td>\n",
       "    </tr>\n",
       "  </tbody>\n",
       "</table>\n",
       "<p>3 rows × 770 columns</p>\n",
       "</div>"
      ],
      "text/plain": [
       "   col_1                          col_2     SUM_0     SUM_1     SUM_2  \\\n",
       "0      3                hola como estan -1.700786 -1.760625  1.967040   \n",
       "1      2               alumnos queridos  1.337676 -2.040652  3.120281   \n",
       "2      1  vamos a hablar de matematicas -0.593493  6.140261  7.451053   \n",
       "\n",
       "      SUM_3     SUM_4     SUM_5     SUM_6     SUM_7  ...   SUM_758   SUM_759  \\\n",
       "0 -2.899785  2.762954 -1.017555  0.548983 -1.160371  ... -6.562262  3.154655   \n",
       "1  0.445535  1.834115  1.943148  3.511281  2.248597  ... -0.839623 -2.212891   \n",
       "2 -2.412131 -2.278517  5.188994 -3.946751 -9.876625  ... -3.920628  0.816847   \n",
       "\n",
       "    SUM_760   SUM_761   SUM_762   SUM_763   SUM_764   SUM_765   SUM_766  \\\n",
       "0  1.552447 -3.136322 -3.724271 -1.145931  4.428095  0.207791  5.901742   \n",
       "1 -1.991792 -5.451099 -0.581947 -2.032886  1.143040  1.079169  2.019759   \n",
       "2  1.259655 -5.159519 -6.839560  4.979477 -2.389618  0.460332 -0.194753   \n",
       "\n",
       "    SUM_767  \n",
       "0 -1.490143  \n",
       "1  3.394125  \n",
       "2  1.463782  \n",
       "\n",
       "[3 rows x 770 columns]"
      ]
     },
     "execution_count": 11,
     "metadata": {},
     "output_type": "execute_result"
    }
   ],
   "source": [
    "sentence_encoder(df, model, tokenizer, column = 'col_2', encoding = 'sum')"
   ]
  },
  {
   "cell_type": "code",
   "execution_count": null,
   "id": "063db340",
   "metadata": {},
   "outputs": [],
   "source": []
  }
 ],
 "metadata": {
  "kernelspec": {
   "display_name": "Python 3",
   "language": "python",
   "name": "python3"
  },
  "language_info": {
   "codemirror_mode": {
    "name": "ipython",
    "version": 3
   },
   "file_extension": ".py",
   "mimetype": "text/x-python",
   "name": "python",
   "nbconvert_exporter": "python",
   "pygments_lexer": "ipython3",
   "version": "3.8.5"
  }
 },
 "nbformat": 4,
 "nbformat_minor": 5
}
